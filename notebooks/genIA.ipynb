{
 "cells": [
  {
   "cell_type": "code",
   "execution_count": null,
   "metadata": {},
   "outputs": [],
   "source": [
    "import requests\n",
    "import json\n",
    "# URL do dataset\n",
    "dataset_url = \"https://huggingface.co/datasets/spacemanidol/product-search-corpus/resolve/main/corpus-simple.jsonl\"\n",
    "\n",
    "# Baixar o dataset\n",
    "response = requests.get(dataset_url)\n",
    "data = [json.loads(line) for line in response.text.splitlines()]\n",
    "\n",
    "# Converter para DataFrame\n",
    "df = pd.DataFrame(data)\n",
    "\n",
    "# Exibir as primeiras linhas do DataFrame para verificar a estrutura\n",
    "print(df.head())"
   ]
  },
  {
   "cell_type": "code",
   "execution_count": null,
   "metadata": {},
   "outputs": [],
   "source": [
    "from openai import OpenAI\n",
    "import pandas as pd\n",
    "\n",
    "# Configurar a chave da API do OpenAI\n",
    "client = OpenAI(api_key='---')"
   ]
  },
  {
   "cell_type": "code",
   "execution_count": null,
   "metadata": {},
   "outputs": [],
   "source": [
    "df = df.drop(columns = ['docid'])\n",
    "df['title_text'] = df.apply(lambda row: f\"{row['title']} / {row['text']}\", axis=1)\n",
    "df"
   ]
  },
  {
   "cell_type": "code",
   "execution_count": null,
   "metadata": {},
   "outputs": [],
   "source": [
    "from openai import OpenAI\n",
    "\n",
    "\n",
    "\n",
    "# Configurar a chave da API do OpenAI\n",
    "client = OpenAI(api_key='---')\n",
    "\n",
    "def extract_features_from_openai(text):\n",
    "\n",
    "    prompt = (\n",
    "        f\"Extraia as principais features do seguinte texto:\\n\\n{text}\\n\\n\"\n",
    "        \"Inclua apenas as features: categoria, material, handmade, cor, marca, me retorne em json com nome features com array de objetos.\\n\\n\"\n",
    "        \"Inclua apenas um JSON e um array de objetos na resposta.\\n\\n. Caso a feature nao seja encontrada sempre escreva Não encontrado.\\n\\n se tiver mais de uma resposta utilize virgulas para separar apenas\"\n",
    "        \"A resposta deve seguir ESTRITAMENTE a seguinte forma, igual sempre, não mude nada no formato: \\n\\n\"\n",
    "        \"{\\n\"\n",
    "        '  \"features\": [\\n'\n",
    "        '    {\\n'\n",
    "        '      \"categoria\": \"resposta\",\\n'\n",
    "        '      \"material\": \"resposta\",\\n'\n",
    "        '      \"Público-alvo\": \"resposta(infantil, adulto, profissional, etc.)\",\\n'\n",
    "        '      \"cor\": \"resposta\",\\n'\n",
    "        '      \"marca\": \"resposta\"\\n'\n",
    "        '    }\\n'\n",
    "        '  ]\\n'\n",
    "        \"}\"\n",
    "    )\n",
    "    \n",
    "    response = client.chat.completions.create(\n",
    "        model=\"gpt-3.5-turbo-0125\",\n",
    "        messages=[\n",
    "            {\"role\": \"system\", \"content\": \"Você é um assistente que ajuda a extrair features de descrições de produtos.Siga estritamente o comando de output dado no prompt sempre.\"},\n",
    "            {\"role\": \"user\", \"content\": prompt}\n",
    "        ],\n",
    "        max_tokens=100,\n",
    "        temperature=0.6,\n",
    "    )\n",
    "    return response.choices[0].message.content.strip()\n",
    "\n",
    "# Extrair features para o título e a descrição\n",
    "dk['features'] = dk['title_text'].apply(lambda x: extract_features_from_openai(x) if print(f\"Processing row {dk.index[dk['title_text'] == x][0]}\") is None else None)\n",
    "#df['title_features'] = df['title'].apply(lambda x: extract_features_from_openai(x))\n",
    "#df['description_features'] = df['description'].apply(lambda x: extract_features_from_openai(x) if print(f\"Processing row {df.index[df['title'] == x][0]}\") is None else None)"
   ]
  },
  {
   "cell_type": "code",
   "execution_count": null,
   "metadata": {},
   "outputs": [],
   "source": [
    "import pandas as pd\n",
    "import json\n",
    "\n",
    "# Supondo que 'dk' seja o seu DataFrame\n",
    "def clean_json_prefix(data):\n",
    "    if data.startswith('```json\\\\n'):\n",
    "        return data.replace('```json\\\\n', '', 1)\n",
    "    return data\n",
    "\n",
    "# Limpar o prefixo '```json\\n' das linhas\n",
    "dk['features'] = dk['features'].apply(clean_json_prefix)\n",
    "\n",
    "def is_valid_json(data):\n",
    "    try:\n",
    "        json.loads(data)\n",
    "        return True\n",
    "    except ValueError:\n",
    "        return False\n",
    "\n",
    "# Filtrando as linhas que possuem JSON válido\n",
    "valid_json_mask = dk['features'].apply(is_valid_json)\n",
    "valid_data = dk[valid_json_mask]\n",
    "\n",
    "# Aplicando json.loads apenas nos dados válidos\n",
    "data_solved = valid_data['features'].apply(json.loads)\n",
    "\n",
    "# Expandindo a coluna 'features' em colunas separadas\n",
    "features_df = pd.json_normalize(data_solved, 'features')\n",
    "\n",
    "# Concatenando o dataframe original com as novas colunas\n",
    "dk_final = pd.concat([valid_data.drop(columns=['features']), features_df], axis=1)\n",
    "\n",
    "# Opcional: lidar com as linhas que possuem JSON inválido\n",
    "invalid_data = dk[~valid_json_mask]"
   ]
  },
  {
   "cell_type": "code",
   "execution_count": null,
   "metadata": {},
   "outputs": [],
   "source": [
    "valid_data.to_csv('/workspace/GABRYEL_ALENCAR_DDF_TECH_072024/data/raw/chatgpt3-5.csv', index= False)"
   ]
  },
  {
   "cell_type": "code",
   "execution_count": null,
   "metadata": {},
   "outputs": [],
   "source": [
    "dk_final = dk_final[0:998]\n",
    "dk_final.drop(columns = ['handmade'], inplace = True)"
   ]
  },
  {
   "cell_type": "code",
   "execution_count": null,
   "metadata": {},
   "outputs": [],
   "source": [
    "dk_final.to_csv('/workspace/GABRYEL_ALENCAR_DDF_TECH_072024/data/processed/Item 5/dados_LLM.csv', index = False)"
   ]
  },
  {
   "cell_type": "code",
   "execution_count": null,
   "metadata": {},
   "outputs": [],
   "source": [
    "dk = df[0:100001]"
   ]
  },
  {
   "cell_type": "code",
   "execution_count": null,
   "metadata": {},
   "outputs": [],
   "source": [
    "import os\n",
    "from groq import Groq\n",
    "\n",
    "# Configurar a chave da API do Groq\n",
    "client = Groq(api_key=\"---\")\n",
    "\n",
    "def extract_features_from_groq(text):\n",
    "\n",
    "    prompt = (\n",
    "        f\"Extraia as principais features do seguinte texto:\\n\\n{text}\\n\\n\"\n",
    "        \"Inclua apenas as features: categoria, material, handmade, cor, marca, me retorne em json com nome features com array de objetos.\\n\\n\"\n",
    "        \"Inclua apenas um JSON e um array de objetos na resposta.\\n\\n. Caso a feature nao seja encontrada sempre escreva Não encontrado.\\n\\n se tiver mais de uma resposta utilize virgulas para separar apenas\"\n",
    "        \"A resposta deve seguir ESTRITAMENTE a seguinte forma, igual sempre, não mude nada no formato: \\n\\n\"\n",
    "        \"{\\n\"\n",
    "        '  \"features\": [\\n'\n",
    "        '    {\\n'\n",
    "        '      \"categoria\": \"resposta\",\\n'\n",
    "        '      \"material\": \"resposta\",\\n'\n",
    "        '      \"Público-alvo\": \"resposta(infantil, adulto, profissional, etc.)\",\\n'\n",
    "        '      \"cor\": \"resposta\",\\n'\n",
    "        '      \"marca\": \"resposta\"\\n'\n",
    "        '    }\\n'\n",
    "        '  ]\\n'\n",
    "        \"}\"\n",
    "    )\n",
    "\n",
    "    chat_completion = client.chat.completions.create(\n",
    "        messages=[\n",
    "            {\n",
    "                \"role\": \"system\",\n",
    "                \"content\": \"Você é um assistente que ajuda a extrair features de descrições de produtos. Siga estritamente o comando de output dado no prompt sempre.\"\n",
    "            },\n",
    "            {\n",
    "                \"role\": \"user\",\n",
    "                \"content\": prompt\n",
    "            }\n",
    "        ],\n",
    "        model=\"llama3-8b-8192\",\n",
    "        temperature=0.6,\n",
    "        max_tokens=100,\n",
    "\n",
    "    )\n",
    "    return chat_completion.choices[0].message.content.strip()\n",
    "\n",
    "dk['features'] = dk['title_text'].apply(lambda x: extract_features_from_groq(x) if print(f\"Processing row {dk.index[dk['title_text'] == x][0]}\") is None else None)\n"
   ]
  }
 ],
 "metadata": {
  "language_info": {
   "name": "python"
  }
 },
 "nbformat": 4,
 "nbformat_minor": 2
}
